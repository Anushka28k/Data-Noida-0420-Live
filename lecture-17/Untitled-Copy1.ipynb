{
 "cells": [
  {
   "cell_type": "code",
   "execution_count": null,
   "metadata": {},
   "outputs": [],
   "source": []
  },
  {
   "cell_type": "code",
   "execution_count": 7,
   "metadata": {},
   "outputs": [],
   "source": [
    "import requests\n",
    "import random"
   ]
  },
  {
   "cell_type": "code",
   "execution_count": null,
   "metadata": {},
   "outputs": [],
   "source": []
  },
  {
   "cell_type": "code",
   "execution_count": 8,
   "metadata": {},
   "outputs": [],
   "source": [
    "text = \"\"\"Uth ja apni raakh se\n",
    "Tu udd ja ab talaash mein\n",
    "Parwaaz dekh parwane ki\n",
    "Aasman bhi sar uthayega\n",
    "Aayega apna time aayega\n",
    "Mere jaisa shaana lala\n",
    "Tujhe na mil payega\n",
    " \n",
    "Yeh shabdon ka jwala\n",
    "Meri bediyan pighlayega\n",
    "Jitna toone boya hai tu\n",
    "Utna hi to khaayega\n",
    "Aisa mera khwaab hai\n",
    "Jo darr ko bhi satayega\n",
    "Zinda mera khwaab\n",
    "Ab kaise tu dafnayega\n",
    " \n",
    "Ab hausle se jeene de\n",
    "Ab khauf nahi hai seene mein\n",
    "Har raaste ko cheerenge\n",
    "Hum kaamyabi chheenenge\n",
    "Sab kuchh mila paseene se\n",
    "Matlab bana ab jeene mein\n",
    " \n",
    "Kyon\n",
    "Kyon ki apna time aayega\n",
    " \n",
    "Tu nanga hi to aaya hai\n",
    "Kya ghanta lekar jaayega\n",
    "Apna time aayega\n",
    "Apna time aayega\n",
    "Apna time aayega x (2)\n",
    " \n",
    "Tu nanga hi to aaya hai\n",
    "Kya ghanta lekar..\n",
    " \n",
    "Kissi ka hath nahi tha sar par\n",
    "Yahaan par aaya khud ki mehnat se main\n",
    "Jitni taakat kismat mein nahi\n",
    "Utni rehmat mein hai\n",
    "Phir bhi ladka sehmat nahin hai\n",
    "Kyon ki hairat nahi hai\n",
    "Zaroorat yahaan marzi ki\n",
    "Aur jurrat ki hai\n",
    " \n",
    "Taakat ki hai, aafat ki\n",
    "Himaakat ki, ibaadat ki\n",
    "Adalat yeh hai chahat ki\n",
    "Mohobbat ki, amaanat ki\n",
    "Jeetne ki ab aadat ki hai\n",
    "Shohrat ki ab laalach nai hai\n",
    "Tere bhai jaisa koyi hard’ch nai hai\n",
    " \n",
    "Iss harkat ne hi barkat di hai\n",
    "Kyon?\n",
    " \n",
    "Tu nanga hi to aaya hai\n",
    "Kya ghanta lekar jaayega\n",
    "Apna time aayega\n",
    "Apna time aayega\n",
    "Apna time aayega\n",
    " \n",
    "Tu nanga hi to aaya hai\n",
    "Kya ghanta lekar jaayega\n",
    "Kya tu ghanta lekar jaayega\n",
    "Apna time aayega\n",
    "Apna time aayega\"\"\""
   ]
  },
  {
   "cell_type": "code",
   "execution_count": null,
   "metadata": {},
   "outputs": [],
   "source": []
  },
  {
   "cell_type": "code",
   "execution_count": 9,
   "metadata": {},
   "outputs": [
    {
     "data": {
      "text/plain": [
       "1343"
      ]
     },
     "execution_count": 9,
     "metadata": {},
     "output_type": "execute_result"
    }
   ],
   "source": [
    "len(text)"
   ]
  },
  {
   "cell_type": "code",
   "execution_count": 10,
   "metadata": {},
   "outputs": [],
   "source": [
    "cut = text[1000:1500]"
   ]
  },
  {
   "cell_type": "code",
   "execution_count": 11,
   "metadata": {},
   "outputs": [
    {
     "name": "stdout",
     "output_type": "stream",
     "text": [
      "tne ki ab aadat ki hai\n",
      "Shohrat ki ab laalach nai hai\n",
      "Tere bhai jaisa koyi hard’ch nai hai\n",
      " \n",
      "Iss harkat ne hi barkat di hai\n",
      "Kyon?\n",
      " \n",
      "Tu nanga hi to aaya hai\n",
      "Kya ghanta lekar jaayega\n",
      "Apna time aayega\n",
      "Apna time aayega\n",
      "Apna time aayega\n",
      " \n",
      "Tu nanga hi to aaya hai\n",
      "Kya ghanta lekar jaayega\n",
      "Kya tu ghanta lekar jaayega\n",
      "Apna time aayega\n",
      "Apna time aayega\n"
     ]
    }
   ],
   "source": [
    "print(cut)"
   ]
  },
  {
   "cell_type": "code",
   "execution_count": 25,
   "metadata": {},
   "outputs": [],
   "source": [
    "k = 6\n",
    "\n",
    "probabs = {}\n",
    "\n",
    "for i in range(k, len(text)):\n",
    "    present = text[i-k: i]\n",
    "    future =  text[i]\n",
    "    \n",
    "    if present not in probabs:\n",
    "        probabs[present] = {}\n",
    "    \n",
    "    if future not in probabs[present]:\n",
    "        probabs[present][future] = 0\n",
    "    \n",
    "    probabs[present][future] += 1"
   ]
  },
  {
   "cell_type": "code",
   "execution_count": 31,
   "metadata": {},
   "outputs": [],
   "source": [
    "start_loc = random.randint(50, 200)"
   ]
  },
  {
   "cell_type": "code",
   "execution_count": 38,
   "metadata": {},
   "outputs": [],
   "source": [
    "seed = text[start_loc:start_loc + 30]"
   ]
  },
  {
   "cell_type": "code",
   "execution_count": 39,
   "metadata": {},
   "outputs": [
    {
     "name": "stdout",
     "output_type": "stream",
     "text": [
      "i\n",
      "Aasman bhi sar uthayega\n",
      "Aaye\n"
     ]
    }
   ],
   "source": [
    "print(seed)"
   ]
  },
  {
   "cell_type": "code",
   "execution_count": 40,
   "metadata": {},
   "outputs": [],
   "source": [
    "for i in range(500): \n",
    "    present = seed[-k:]\n",
    "\n",
    "    present\n",
    "\n",
    "    possib = probabs[present]\n",
    "\n",
    "    top_items_count = 3\n",
    "\n",
    "    top_items = sorted(possib.items(), key=lambda item: item[1])[-top_items_count:]\n",
    "\n",
    "    future = random.choice(top_items)[0]\n",
    "\n",
    "    future\n",
    "\n",
    "    seed = seed + future"
   ]
  },
  {
   "cell_type": "code",
   "execution_count": 41,
   "metadata": {},
   "outputs": [
    {
     "name": "stdout",
     "output_type": "stream",
     "text": [
      "i\n",
      "Aasman bhi sar uthayega\n",
      "Aayega x (2)\n",
      " \n",
      "Tu nanga hi to khaayega x (2)\n",
      " \n",
      "Tu nanga hi to khaayega\n",
      "Kya tu ghanta lekar jaayega\n",
      "Aisa mera khwaab\n",
      "Ab kaise tu dafnayega\n",
      "Kya tu ghanta lekar jaayega apna time aayega apna time aayega apna time aayega x (2)\n",
      " \n",
      "Tu nanga hi to aaya hai\n",
      "Kya ghanta lekar jaayega x (2)\n",
      " \n",
      "Tu nanga hi to aaya khud ki mehnat se main\n",
      "Jitni taakat ki hairat nahin hai\n",
      "Kyon?\n",
      " \n",
      "Tu nanga hi to aaya hai\n",
      "Kyon ki hairat nahi hai\n",
      " \n",
      "Taakat ki hai\n",
      "Kyon?\n",
      " \n",
      "Tu nanga hi to khaayega\n",
      "Kya tu ghanta lekar..\n",
      " \n",
      "Kissi ka hath nahi\n"
     ]
    }
   ],
   "source": [
    "print(seed)"
   ]
  },
  {
   "cell_type": "code",
   "execution_count": null,
   "metadata": {},
   "outputs": [],
   "source": []
  },
  {
   "cell_type": "code",
   "execution_count": null,
   "metadata": {},
   "outputs": [],
   "source": []
  }
 ],
 "metadata": {
  "kernelspec": {
   "display_name": "Python 3",
   "language": "python",
   "name": "python3"
  },
  "language_info": {
   "codemirror_mode": {
    "name": "ipython",
    "version": 3
   },
   "file_extension": ".py",
   "mimetype": "text/x-python",
   "name": "python",
   "nbconvert_exporter": "python",
   "pygments_lexer": "ipython3",
   "version": "3.7.2"
  }
 },
 "nbformat": 4,
 "nbformat_minor": 4
}
